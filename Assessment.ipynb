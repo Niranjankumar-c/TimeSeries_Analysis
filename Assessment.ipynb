{
 "cells": [
  {
   "cell_type": "markdown",
   "metadata": {
    "id": "Qjy57fbF7azy"
   },
   "source": [
    "### Project 3: Build a timeseries model for forecasting number of customers of a particular store"
   ]
  },
  {
   "cell_type": "markdown",
   "metadata": {},
   "source": [
    "  One of the leading retail stores in the US, ABC, would like to predict the customers and demand accurately. There are certain events and holidays which impact sales on each day. There are customers data available for 51 stores of ABC. The business is facing a challenge due to unforeseen demands and runs out of stock sometimes, due to the inappropriate machine learning algorithm. An ideal ML algorithm will predict demand accurately and ingest factors like promotions, state and school holidays conditions.\n",
    "ABC runs several promotional markdown events throughout the year. These markdowns precede prominent holidays, the four largest of all, which are the Super Bowl, Labour Day, Thanksgiving, and Christmas. Part of the challenge presented by this competition is modelling the effects of markdowns on these holiday weeks in the absence of complete/ideal historical data. Historical data for 51 stores located in different regions are availab\n",
    "le.\n",
    "The dataset contains 51 stores’ customers data along with other details like day of the week, store id, promotion and holidays details  from Jan 2014 to2016.\n"
   ]
  },
  {
   "cell_type": "markdown",
   "metadata": {},
   "source": [
    "### Data Dictionary"
   ]
  },
  {
   "cell_type": "markdown",
   "metadata": {},
   "source": [
    "\n",
    "**Date** : Date \n",
    "\n",
    "**Store**:Store id\n",
    "\n",
    "**Day of Week**: Day of the week (encoded):  \n",
    "1: Sunday 2: Monday… 7: Saturday \n",
    "\n",
    "**Customers**: Number of customers on a given day \n",
    "\n",
    "**Open** : An indicator for whether the store is open:  \n",
    "0: Close; 1: Open \n",
    "\n",
    "**Promotion**: An Indicator whether a store is running a promotion on given day. \n",
    "0: No Promotion; 1: Promotion \n",
    "\n",
    "**State Holiday**: Indicates a state holiday; Normally all stores, with few exceptions, are closed on state holidays.  \n",
    "0: No state holiday; ‘a’, ’b, ’c’: different types of holidays \n",
    "\n",
    "**School Holiday**: An indicator if the (Store, Date) was affected by the closure of public schools \n",
    "\n",
    "#### Holiday Events\n",
    " - **Super Bowl:** Feb month \n",
    " - **Labour Day:** Sept month\n",
    " - **Thanksgiving:** Nov month\n",
    " - **Christmas:** December month"
   ]
  },
  {
   "cell_type": "markdown",
   "metadata": {},
   "source": [
    "**Initial Guidelines:**\n",
    "1. Ensure to follow to Use Id’s provided by UNext for naming file as conventions.\n",
    "2. Create GitHub account and submit the GitHub link.\n"
   ]
  },
  {
   "cell_type": "markdown",
   "metadata": {},
   "source": [
    "### Software Engineering aspect:  \n",
    "\n",
    "Utilize software engineering aspects while building Machine learning model using modular programming principles to organize your code into reusable functions or classes to enhance readability, maintainability, and collaboration."
   ]
  },
  {
   "cell_type": "markdown",
   "metadata": {},
   "source": [
    "### General Instructions\n",
    "\n",
    "- The cells in the Jupyter notebook can be executed any number of times for testing the solution\n",
    "- Refrain from modifying the boilerplate code as it may lead to unexpected behavior\n",
    "- The solution is to be written between the comments `# code starts here` and `# code ends here`\n",
    "- On completing all the questions, the assessment is to be submitted on moodle for evaluation\n",
    "- Before submitting the assessment, there should be `no error` while executing the notebook. If there are any error causing code, please comment it.\n",
    "- The kernel of the Jupyter notebook is to be set as `Python 3 (ipykernel)` if not set already\n",
    "- Include imports as necessary\n",
    "- For each of the task, `Note` section will provide you hints to solve the problem.\n",
    "- Do not use `PRINT` statement inside the `Except` Block. Please use `return` statement only within the except block"
   ]
  },
  {
   "cell_type": "markdown",
   "metadata": {},
   "source": [
    "#### **Utilize software engineering aspects while building Machine learning model using modular programming principles to organize your code into reusable functions or classes to enhance readability, maintainability, and collaboration.**"
   ]
  },
  {
   "cell_type": "markdown",
   "metadata": {},
   "source": [
    "### Loading required libraries and packages "
   ]
  },
  {
   "cell_type": "markdown",
   "metadata": {},
   "source": [
    "Import various libraries and modules used in data analysis, machine learning, and visualization tasks in Python such as `pandas`, `numpy`, `sklearn`, `matplotlib`, `datetime` , `timeit`, `seaborn`, `statsmodels`,`statsmodels.tsa.arima.model` `statsmodels.tsa.stattools`,`statsmodels.api` , `sklearn.model_selection`, `sklearn.linear_model`, `sklearn.metrics`, `sklearn.preprocessing`. There are 2 ways to import the libraries and modules:\n",
    "\n",
    "- import numpy as np\n",
    "- from sklearn.model_selection import train_test_split"
   ]
  },
  {
   "cell_type": "code",
   "execution_count": 43,
   "metadata": {
    "ExecuteTime": {
     "end_time": "2020-09-28T12:43:09.141037Z",
     "start_time": "2020-09-28T12:43:08.067621Z"
    },
    "id": "d8PFoEDn1Jxf"
   },
   "outputs": [],
   "source": [
    "import numpy as np\n",
    "import pandas as pd\n",
    "import matplotlib.pyplot as plt"
   ]
  },
  {
   "cell_type": "markdown",
   "metadata": {},
   "source": [
    "###  Task 1 : Load the dataset and perform preliminary EDA (Exploratory Data Analysis) with key observations and insights-  (weightage - 25 marks)"
   ]
  },
  {
   "cell_type": "markdown",
   "metadata": {},
   "source": [
    "#### T1.1: Load the dataset making ‘Date’ as time stamp and index using try and except blocks.                   (weightage - 2 marks) (AE)"
   ]
  },
  {
   "cell_type": "markdown",
   "metadata": {},
   "source": [
    "##### Note: \n",
    "- The read_excel method in Pandas allows you to read Excel files and convert them into a DataFrame, which is a two-dimensional tabular data structure in Pandas.\n",
    "- Add parse_dates = True and index_col = 'Date' while loading the df since we are using timeseries data\n",
    "- Do not use PRINT statement inside the Except Block. Please use `return` statement only\n",
    "- `Store50` variable is defined to store the dataframe\n",
    "- The statement `return Store50` should return the dataframe."
   ]
  },
  {
   "cell_type": "code",
   "execution_count": 3,
   "metadata": {},
   "outputs": [],
   "source": [
    "def load_the_dataset(dataset_location):\n",
    "    Store50 = None\n",
    "    try:\n",
    "        #load data set\n",
    "        Store50 = pd.read_excel(dataset_location, parse_dates = True, index_col = 'Date')\n",
    "        return Store50\n",
    "    except :\n",
    "        return \"File not found. Please check the file\""
   ]
  },
  {
   "cell_type": "code",
   "execution_count": 4,
   "metadata": {},
   "outputs": [
    {
     "data": {
      "text/html": [
       "<div>\n",
       "<style scoped>\n",
       "    .dataframe tbody tr th:only-of-type {\n",
       "        vertical-align: middle;\n",
       "    }\n",
       "\n",
       "    .dataframe tbody tr th {\n",
       "        vertical-align: top;\n",
       "    }\n",
       "\n",
       "    .dataframe thead th {\n",
       "        text-align: right;\n",
       "    }\n",
       "</style>\n",
       "<table border=\"1\" class=\"dataframe\">\n",
       "  <thead>\n",
       "    <tr style=\"text-align: right;\">\n",
       "      <th></th>\n",
       "      <th>Store</th>\n",
       "      <th>Day Of Week</th>\n",
       "      <th>Customers</th>\n",
       "      <th>Open</th>\n",
       "      <th>Promotion</th>\n",
       "      <th>State Holiday</th>\n",
       "      <th>School Holiday</th>\n",
       "    </tr>\n",
       "    <tr>\n",
       "      <th>Date</th>\n",
       "      <th></th>\n",
       "      <th></th>\n",
       "      <th></th>\n",
       "      <th></th>\n",
       "      <th></th>\n",
       "      <th></th>\n",
       "      <th></th>\n",
       "    </tr>\n",
       "  </thead>\n",
       "  <tbody>\n",
       "    <tr>\n",
       "      <th>2016-01-01</th>\n",
       "      <td>1036.0</td>\n",
       "      <td>4.0</td>\n",
       "      <td>0.0</td>\n",
       "      <td>0.0</td>\n",
       "      <td>0.0</td>\n",
       "      <td>0</td>\n",
       "      <td>1.0</td>\n",
       "    </tr>\n",
       "    <tr>\n",
       "      <th>2016-01-01</th>\n",
       "      <td>1027.0</td>\n",
       "      <td>4.0</td>\n",
       "      <td>0.0</td>\n",
       "      <td>0.0</td>\n",
       "      <td>0.0</td>\n",
       "      <td>0</td>\n",
       "      <td>1.0</td>\n",
       "    </tr>\n",
       "    <tr>\n",
       "      <th>2016-01-01</th>\n",
       "      <td>1004.0</td>\n",
       "      <td>4.0</td>\n",
       "      <td>0.0</td>\n",
       "      <td>0.0</td>\n",
       "      <td>0.0</td>\n",
       "      <td>0</td>\n",
       "      <td>1.0</td>\n",
       "    </tr>\n",
       "    <tr>\n",
       "      <th>2016-01-01</th>\n",
       "      <td>1014.0</td>\n",
       "      <td>4.0</td>\n",
       "      <td>0.0</td>\n",
       "      <td>0.0</td>\n",
       "      <td>0.0</td>\n",
       "      <td>0</td>\n",
       "      <td>1.0</td>\n",
       "    </tr>\n",
       "    <tr>\n",
       "      <th>2016-01-02</th>\n",
       "      <td>1044.0</td>\n",
       "      <td>7.0</td>\n",
       "      <td>0.0</td>\n",
       "      <td>0.0</td>\n",
       "      <td>0.0</td>\n",
       "      <td>0</td>\n",
       "      <td>0.0</td>\n",
       "    </tr>\n",
       "  </tbody>\n",
       "</table>\n",
       "</div>"
      ],
      "text/plain": [
       "             Store  Day Of Week  Customers  Open  Promotion State Holiday  \\\n",
       "Date                                                                        \n",
       "2016-01-01  1036.0          4.0        0.0   0.0        0.0             0   \n",
       "2016-01-01  1027.0          4.0        0.0   0.0        0.0             0   \n",
       "2016-01-01  1004.0          4.0        0.0   0.0        0.0             0   \n",
       "2016-01-01  1014.0          4.0        0.0   0.0        0.0             0   \n",
       "2016-01-02  1044.0          7.0        0.0   0.0        0.0             0   \n",
       "\n",
       "            School Holiday  \n",
       "Date                        \n",
       "2016-01-01             1.0  \n",
       "2016-01-01             1.0  \n",
       "2016-01-01             1.0  \n",
       "2016-01-01             1.0  \n",
       "2016-01-02             0.0  "
      ]
     },
     "execution_count": 4,
     "metadata": {},
     "output_type": "execute_result"
    }
   ],
   "source": [
    "# store the result of the dataset\n",
    "dataset_location = \"store50.xlsx\"\n",
    "Store50=load_the_dataset(dataset_location)\n",
    "Store50.head()"
   ]
  },
  {
   "cell_type": "markdown",
   "metadata": {},
   "source": [
    "#### T1.2:  Find the number of unique stores                     (weightage - 2 marks) (AE)"
   ]
  },
  {
   "cell_type": "markdown",
   "metadata": {},
   "source": [
    "##### Note: \n",
    "\n",
    "- The function `unique_store` should retrieve the number of unique values of the `Store` column from the DataFrame Store50.\n",
    "- Extract the `Store` column from the DataFrame **Store50** and then apply the unique() method to it and store it in the defined variable `uniq`.\n",
    "- The unique() method returns an array of unique values present in the 'Store' column. \n",
    "- The statement `return len(uniq)` returns an integer of number of unique store values are there in the 'Store' column."
   ]
  },
  {
   "cell_type": "code",
   "execution_count": 17,
   "metadata": {},
   "outputs": [],
   "source": [
    "## List the number of unique stores for which we have the data?\n",
    "def unique_store(Store50):\n",
    "    uniq = None\n",
    "    \n",
    "    #find the number of stores\n",
    "    uniq = Store50['Store'].unique()\n",
    "    \n",
    "    # code ends here\n",
    "    return len(uniq)"
   ]
  },
  {
   "cell_type": "code",
   "execution_count": 19,
   "metadata": {},
   "outputs": [
    {
     "data": {
      "text/plain": [
       "52"
      ]
     },
     "execution_count": 19,
     "metadata": {},
     "output_type": "execute_result"
    }
   ],
   "source": [
    "unique_store(Store50)"
   ]
  },
  {
   "cell_type": "markdown",
   "metadata": {},
   "source": [
    "#### T1.3 Find the number of observations for each store?     (weightage - 2 marks) (AE)\n",
    "\n",
    "##### Note :\n",
    "- The function `no_obs_store` should return the number of observations for each store stored together in the form of a dictionary\n",
    "- Retrieve the unique values of the 'Store' column from the DataFrame Store50.\n",
    "- Extract the 'Store' column from the DataFrame Store50 and then applies the unique() method to it. \n",
    "- Iterate over each unique store value using a for loop and get the number of observations and store it in the dictionary `store_counts`\n",
    "- Example for key value pair **{1036.0: 852}** where 1036.0 is Store value and 852 is the number of observations.\n"
   ]
  },
  {
   "cell_type": "code",
   "execution_count": 20,
   "metadata": {},
   "outputs": [],
   "source": [
    "def no_obs_store(Store50):\n",
    "    store_counts = {}\n",
    "    \n",
    "    #get the unique values of the store column\n",
    "    unique_stores = Store50['Store'].unique()\n",
    "    \n",
    "    # Iterate over each unique store value\n",
    "    for store in unique_stores:\n",
    "        \n",
    "        store_observations = Store50[Store50['Store'] == store]\n",
    "        \n",
    "        # Store the len of observations in the dictionary\n",
    "        store_counts[store] = len(store_observations)\n",
    "\n",
    "    #code ends here\n",
    "    return store_counts"
   ]
  },
  {
   "cell_type": "code",
   "execution_count": 21,
   "metadata": {},
   "outputs": [
    {
     "data": {
      "text/plain": [
       "{1036.0: 852,\n",
       " 1027.0: 852,\n",
       " 1004.0: 852,\n",
       " 1014.0: 852,\n",
       " 1044.0: 852,\n",
       " 1041.0: 852,\n",
       " 1047.0: 852,\n",
       " 1012.0: 852,\n",
       " 1037.0: 668,\n",
       " 1005.0: 852,\n",
       " 1011.0: 852,\n",
       " 1043.0: 852,\n",
       " 1001.0: 668,\n",
       " 1048.0: 852,\n",
       " 1030.0: 852,\n",
       " 1035.0: 852,\n",
       " 1013.0: 852,\n",
       " 1029.0: 852,\n",
       " 1042.0: 852,\n",
       " 1017.0: 668,\n",
       " 1032.0: 852,\n",
       " 1024.0: 852,\n",
       " 1006.0: 668,\n",
       " 1007.0: 852,\n",
       " 1002.0: 668,\n",
       " 1019.0: 852,\n",
       " 1000.0: 668,\n",
       " 1009.0: 852,\n",
       " 1023.0: 668,\n",
       " 1016.0: 852,\n",
       " 1050.0: 852,\n",
       " 1031.0: 852,\n",
       " 1010.0: 852,\n",
       " 1034.0: 852,\n",
       " 1039.0: 852,\n",
       " 1033.0: 852,\n",
       " 1045.0: 852,\n",
       " 1015.0: 852,\n",
       " 1022.0: 852,\n",
       " 1040.0: 852,\n",
       " 1046.0: 852,\n",
       " 1021.0: 852,\n",
       " 1028.0: 852,\n",
       " 1008.0: 852,\n",
       " 1025.0: 668,\n",
       " 1020.0: 852,\n",
       " 1038.0: 668,\n",
       " 1003.0: 852,\n",
       " 1018.0: 852,\n",
       " 1026.0: 852,\n",
       " 1049.0: 852,\n",
       " nan: 0}"
      ]
     },
     "execution_count": 21,
     "metadata": {},
     "output_type": "execute_result"
    }
   ],
   "source": [
    "no_obs_store(Store50)"
   ]
  },
  {
   "cell_type": "markdown",
   "metadata": {},
   "source": [
    "#### T1.4: Find the list of store ids which are having less number of observations compared to other stores?                                        (weightage - 2 marks) (AE)\n",
    "##### Note:\n",
    "- The function `less_obs_stores` should return the list of store ids which are having number of observations less than 852.\n",
    "- Extract the `Store` column from the DataFrame Store50 and then applies the unique() method to it\n",
    "- Iterate over each unique store value using a for loop and get the number of observations less than 852 and append it in the list `less_obs_stores_list`.\n",
    "\n",
    "##### HINT: Highest number of observations is 852, print all stores ids having number of observations less than 852 "
   ]
  },
  {
   "cell_type": "code",
   "execution_count": 24,
   "metadata": {},
   "outputs": [],
   "source": [
    "def less_obs_stores(Store50):\n",
    "    less_obs_stores_list = []\n",
    "    \n",
    "    #get the unique values of the store column\n",
    "    unique_stores = Store50['Store'].unique()\n",
    "    \n",
    "    # Iterate over each unique store value\n",
    "    for store in unique_stores:\n",
    "        \n",
    "        store_observations = Store50[Store50['Store'] == store]\n",
    "        \n",
    "        # count the observations per each store \n",
    "        count_observations = len(store_observations)\n",
    "        \n",
    "        if count_observations < 852:\n",
    "            less_obs_stores_list.append(store)   \n",
    "\n",
    "    # code ends here\n",
    "    return less_obs_stores_list"
   ]
  },
  {
   "cell_type": "code",
   "execution_count": 25,
   "metadata": {},
   "outputs": [
    {
     "data": {
      "text/plain": [
       "[1037.0, 1001.0, 1017.0, 1006.0, 1002.0, 1000.0, 1023.0, 1025.0, 1038.0, nan]"
      ]
     },
     "execution_count": 25,
     "metadata": {},
     "output_type": "execute_result"
    }
   ],
   "source": [
    "less_obs_stores(Store50)"
   ]
  },
  {
   "cell_type": "markdown",
   "metadata": {},
   "source": [
    "#### T1.5: Find the average number of customers for the given store ids:1041, 1044?  (weightage - 4 marks) (AE)\n",
    "\n",
    "##### Note: \n",
    "- The function `avg_cust_store` should return the average number of customers for two specific stores (Store 1044 and Store 1041) within the Store50 DataFrame.\n",
    "- Sort the data in ascending order, calculate the mean customer count for both stores and store them in the variables mean_1044 and mean_1041 respectively. \n",
    "- Use the variable `mean_1044` and `mean_1041` to store the mean values of Store 1044 and Store 1041.\n"
   ]
  },
  {
   "cell_type": "code",
   "execution_count": 32,
   "metadata": {
    "ExecuteTime": {
     "end_time": "2020-09-28T12:43:13.200402Z",
     "start_time": "2020-09-28T12:43:13.088941Z"
    },
    "id": "0T5mvn310OlX",
    "scrolled": true
   },
   "outputs": [],
   "source": [
    "# Here, we are also reversing the data as we need to contiguous data in the ascending order for a Time Series Analysis.\n",
    "def avg_cust_store(Store50):\n",
    "    mean_1041 , mean_1044 = None, None\n",
    "    \n",
    "    #sort the data\n",
    "    sort_Store50 = Store50.sort_index(ascending = True)\n",
    "    \n",
    "    #filter the data for each store id\n",
    "    store_1041 = sort_Store50[sort_Store50['Store'] == 1041]\n",
    "    store_1044 = sort_Store50[sort_Store50['Store'] == 1044]\n",
    "    \n",
    "    #compute the mean and round to nearest integer\n",
    "    mean_1041 = round(store_1041['Customers'].mean())\n",
    "    mean_1044 = round(store_1044['Customers'].mean())\n",
    "    \n",
    "    # code ends here\n",
    "    return mean_1044 , mean_1041"
   ]
  },
  {
   "cell_type": "code",
   "execution_count": 35,
   "metadata": {},
   "outputs": [
    {
     "data": {
      "text/html": [
       "<div>\n",
       "<style scoped>\n",
       "    .dataframe tbody tr th:only-of-type {\n",
       "        vertical-align: middle;\n",
       "    }\n",
       "\n",
       "    .dataframe tbody tr th {\n",
       "        vertical-align: top;\n",
       "    }\n",
       "\n",
       "    .dataframe thead th {\n",
       "        text-align: right;\n",
       "    }\n",
       "</style>\n",
       "<table border=\"1\" class=\"dataframe\">\n",
       "  <thead>\n",
       "    <tr style=\"text-align: right;\">\n",
       "      <th></th>\n",
       "      <th>Store</th>\n",
       "      <th>Day Of Week</th>\n",
       "      <th>Customers</th>\n",
       "      <th>Open</th>\n",
       "      <th>Promotion</th>\n",
       "      <th>State Holiday</th>\n",
       "      <th>School Holiday</th>\n",
       "    </tr>\n",
       "    <tr>\n",
       "      <th>Date</th>\n",
       "      <th></th>\n",
       "      <th></th>\n",
       "      <th></th>\n",
       "      <th></th>\n",
       "      <th></th>\n",
       "      <th></th>\n",
       "      <th></th>\n",
       "    </tr>\n",
       "  </thead>\n",
       "  <tbody>\n",
       "    <tr>\n",
       "      <th>2014-01-01</th>\n",
       "      <td>1041.0</td>\n",
       "      <td>2.0</td>\n",
       "      <td>0.0</td>\n",
       "      <td>0.0</td>\n",
       "      <td>0.0</td>\n",
       "      <td>a</td>\n",
       "      <td>1.0</td>\n",
       "    </tr>\n",
       "    <tr>\n",
       "      <th>2014-01-02</th>\n",
       "      <td>1041.0</td>\n",
       "      <td>5.0</td>\n",
       "      <td>742.0</td>\n",
       "      <td>1.0</td>\n",
       "      <td>0.0</td>\n",
       "      <td>0</td>\n",
       "      <td>0.0</td>\n",
       "    </tr>\n",
       "    <tr>\n",
       "      <th>2014-01-03</th>\n",
       "      <td>1041.0</td>\n",
       "      <td>5.0</td>\n",
       "      <td>864.0</td>\n",
       "      <td>1.0</td>\n",
       "      <td>0.0</td>\n",
       "      <td>0</td>\n",
       "      <td>0.0</td>\n",
       "    </tr>\n",
       "    <tr>\n",
       "      <th>2014-01-04</th>\n",
       "      <td>1041.0</td>\n",
       "      <td>1.0</td>\n",
       "      <td>0.0</td>\n",
       "      <td>0.0</td>\n",
       "      <td>0.0</td>\n",
       "      <td>b</td>\n",
       "      <td>1.0</td>\n",
       "    </tr>\n",
       "    <tr>\n",
       "      <th>2014-01-05</th>\n",
       "      <td>1041.0</td>\n",
       "      <td>3.0</td>\n",
       "      <td>0.0</td>\n",
       "      <td>0.0</td>\n",
       "      <td>1.0</td>\n",
       "      <td>a</td>\n",
       "      <td>0.0</td>\n",
       "    </tr>\n",
       "    <tr>\n",
       "      <th>...</th>\n",
       "      <td>...</td>\n",
       "      <td>...</td>\n",
       "      <td>...</td>\n",
       "      <td>...</td>\n",
       "      <td>...</td>\n",
       "      <td>...</td>\n",
       "      <td>...</td>\n",
       "    </tr>\n",
       "    <tr>\n",
       "      <th>2016-06-01</th>\n",
       "      <td>1041.0</td>\n",
       "      <td>2.0</td>\n",
       "      <td>0.0</td>\n",
       "      <td>0.0</td>\n",
       "      <td>1.0</td>\n",
       "      <td>a</td>\n",
       "      <td>0.0</td>\n",
       "    </tr>\n",
       "    <tr>\n",
       "      <th>2016-06-02</th>\n",
       "      <td>1041.0</td>\n",
       "      <td>5.0</td>\n",
       "      <td>918.0</td>\n",
       "      <td>1.0</td>\n",
       "      <td>1.0</td>\n",
       "      <td>0</td>\n",
       "      <td>0.0</td>\n",
       "    </tr>\n",
       "    <tr>\n",
       "      <th>2016-06-03</th>\n",
       "      <td>1041.0</td>\n",
       "      <td>6.0</td>\n",
       "      <td>651.0</td>\n",
       "      <td>1.0</td>\n",
       "      <td>0.0</td>\n",
       "      <td>0</td>\n",
       "      <td>0.0</td>\n",
       "    </tr>\n",
       "    <tr>\n",
       "      <th>2016-06-04</th>\n",
       "      <td>1041.0</td>\n",
       "      <td>2.0</td>\n",
       "      <td>972.0</td>\n",
       "      <td>1.0</td>\n",
       "      <td>0.0</td>\n",
       "      <td>0</td>\n",
       "      <td>1.0</td>\n",
       "    </tr>\n",
       "    <tr>\n",
       "      <th>2016-06-05</th>\n",
       "      <td>1041.0</td>\n",
       "      <td>4.0</td>\n",
       "      <td>954.0</td>\n",
       "      <td>1.0</td>\n",
       "      <td>1.0</td>\n",
       "      <td>0</td>\n",
       "      <td>0.0</td>\n",
       "    </tr>\n",
       "  </tbody>\n",
       "</table>\n",
       "<p>852 rows × 7 columns</p>\n",
       "</div>"
      ],
      "text/plain": [
       "             Store  Day Of Week  Customers  Open  Promotion State Holiday  \\\n",
       "Date                                                                        \n",
       "2014-01-01  1041.0          2.0        0.0   0.0        0.0             a   \n",
       "2014-01-02  1041.0          5.0      742.0   1.0        0.0             0   \n",
       "2014-01-03  1041.0          5.0      864.0   1.0        0.0             0   \n",
       "2014-01-04  1041.0          1.0        0.0   0.0        0.0             b   \n",
       "2014-01-05  1041.0          3.0        0.0   0.0        1.0             a   \n",
       "...            ...          ...        ...   ...        ...           ...   \n",
       "2016-06-01  1041.0          2.0        0.0   0.0        1.0             a   \n",
       "2016-06-02  1041.0          5.0      918.0   1.0        1.0             0   \n",
       "2016-06-03  1041.0          6.0      651.0   1.0        0.0             0   \n",
       "2016-06-04  1041.0          2.0      972.0   1.0        0.0             0   \n",
       "2016-06-05  1041.0          4.0      954.0   1.0        1.0             0   \n",
       "\n",
       "            School Holiday  \n",
       "Date                        \n",
       "2014-01-01             1.0  \n",
       "2014-01-02             0.0  \n",
       "2014-01-03             0.0  \n",
       "2014-01-04             1.0  \n",
       "2014-01-05             0.0  \n",
       "...                    ...  \n",
       "2016-06-01             0.0  \n",
       "2016-06-02             0.0  \n",
       "2016-06-03             0.0  \n",
       "2016-06-04             1.0  \n",
       "2016-06-05             0.0  \n",
       "\n",
       "[852 rows x 7 columns]"
      ]
     },
     "execution_count": 35,
     "metadata": {},
     "output_type": "execute_result"
    }
   ],
   "source": [
    "Store50[Store50['Store'] == 1041].sort_index()"
   ]
  },
  {
   "cell_type": "code",
   "execution_count": 33,
   "metadata": {},
   "outputs": [
    {
     "data": {
      "text/plain": [
       "(474, 700)"
      ]
     },
     "execution_count": 33,
     "metadata": {},
     "output_type": "execute_result"
    }
   ],
   "source": [
    "avg_cust_store(Store50)"
   ]
  },
  {
   "cell_type": "markdown",
   "metadata": {},
   "source": [
    "#### T1.6: Draw the time series plot (using pandas only) on weekly aggregation (by resampling method) of number of customers for the Store ids 1041 & 1044?       (weightage - 4 marks) (ME)\n",
    "\n",
    "##### Note:(regarding the function time_series_plot)\n",
    "- The function `time_series_plot` should return a dataframe `df` where it stores the data of number of customers per each date availble in the dataset for Store id 1044 and Store id 1041.\n",
    "- Sort the data in ascending order for store 1044 and store 1041 from the `Store50` DataFrame .\n",
    "- Combines this filtered data into a new DataFrame named `df` with both the columns with names `Store_1041` and `Store_1044` and structure it with columns for each store's `Customers` data.\n",
    "- Format of the dataframe returned\n",
    "\n",
    "|            | Store\\_1041 | Store\\_1044 |\n",
    "|------------|-------------|-------------|\n",
    "|Date        |             |             |\n",
    "| 2014-01-01 | 0.0         | 0.0         |\n",
    "\n"
   ]
  },
  {
   "cell_type": "code",
   "execution_count": 38,
   "metadata": {},
   "outputs": [],
   "source": [
    "def time_series_plot(Store50):\n",
    "    df = None\n",
    "    # code starts here\n",
    "    \n",
    "    #sort the data\n",
    "    sort_Store50 = Store50.sort_index(ascending = True)\n",
    "    \n",
    "    #filter the data for each store id\n",
    "    store_1041_cust_info = sort_Store50[sort_Store50['Store'] == 1041][\"Customers\"]\n",
    "    store_1044_cust_info = sort_Store50[sort_Store50['Store'] == 1044][\"Customers\"]\n",
    "    \n",
    "    #aggregate the weekly data\n",
    "    store_1041_weekly_agg = store_1041_cust_info.resample('W').sum()\n",
    "    store_1044_weekly_agg = store_1044_cust_info.resample('W').sum()\n",
    "    \n",
    "    #create a dataframe\n",
    "    df = pd.DataFrame({'Store_1041': store_1041_weekly_agg, 'Store_1044': store_1044_weekly_agg})\n",
    "\n",
    "    # code ends here\n",
    "    return df"
   ]
  },
  {
   "cell_type": "code",
   "execution_count": 39,
   "metadata": {},
   "outputs": [
    {
     "name": "stdout",
     "output_type": "stream",
     "text": [
      "            Store_1041  Store_1044\n",
      "Date                              \n",
      "2014-01-05      1606.0       956.0\n",
      "2014-01-12      3439.0      2263.0\n",
      "2014-01-19      4199.0      2412.0\n",
      "2014-01-26      4937.0      2789.0\n",
      "2014-02-02      4437.0      2656.0\n",
      "...                ...         ...\n",
      "2016-05-08      2809.0      1954.0\n",
      "2016-05-15      1561.0      1321.0\n",
      "2016-05-22      5594.0      4182.0\n",
      "2016-05-29      3924.0      3104.0\n",
      "2016-06-05      4527.0      4208.0\n",
      "\n",
      "[127 rows x 2 columns]\n"
     ]
    }
   ],
   "source": [
    "df = time_series_plot(Store50)\n",
    "print(df)"
   ]
  },
  {
   "cell_type": "markdown",
   "metadata": {
    "id": "YJGYNZUA0OlZ"
   },
   "source": [
    "##### Note: The 'Customers' variable is our desired Time Series. So let us plot it to understand how the series looks like. This is a daily series."
   ]
  },
  {
   "cell_type": "code",
   "execution_count": 40,
   "metadata": {
    "ExecuteTime": {
     "end_time": "2020-09-28T12:43:14.071995Z",
     "start_time": "2020-09-28T12:43:13.840137Z"
    },
    "id": "vH1lBdnu0Ola"
   },
   "outputs": [],
   "source": [
    "from pylab import rcParams\n",
    "rcParams['figure.figsize'] = 15,8"
   ]
  },
  {
   "cell_type": "code",
   "execution_count": 48,
   "metadata": {
    "ExecuteTime": {
     "end_time": "2020-09-28T12:43:14.809802Z",
     "start_time": "2020-09-28T12:43:14.565423Z"
    },
    "id": "eAIWVTRN0Ola",
    "outputId": "96694ad0-177c-4960-b7be-e82ea0d040c5"
   },
   "outputs": [
    {
     "data": {
      "image/png": "[encoded data removed]",
      "text/plain": [
       "<Figure size 800x400 with 1 Axes>"
      ]
     },
     "metadata": {},
     "output_type": "display_data"
    }
   ],
   "source": [
    "## Resample the data into a weekly time series to understand how the number of customers change weekly.\n",
    "df.plot(figsize=(8, 4))\n",
    "plt.title(\"Weekly Change of Customers for Store 1041 and Store 1044\")\n",
    "plt.xlabel(\"Date\")\n",
    "plt.ylabel(\"Number of Customers\")\n",
    "plt.legend()\n",
    "plt.show()"
   ]
  },
  {
   "cell_type": "markdown",
   "metadata": {},
   "source": [
    "#### T1.7: Draw the time series plot (using pandas only) on monthly aggregation (by resampling method) of number of customers for the Store ids 1041 & 1044?   (weightage - 2 marks) (ME)\n",
    "\n",
    "##### Note: Use the dataframe `df` combined in the above cell to plot the time series plot."
   ]
  },
  {
   "cell_type": "code",
   "execution_count": 49,
   "metadata": {},
   "outputs": [
    {
     "data": {
      "image/png": "[encoded data removed]",
      "text/plain": [
       "<Figure size 800x400 with 1 Axes>"
      ]
     },
     "metadata": {},
     "output_type": "display_data"
    }
   ],
   "source": [
    "## Resample the data into a monthly time series to understand how the number of the customers change monthy?\n",
    "#using the df on a monthly aggregation\n",
    "df.resample('M').sum().plot(figsize=(8, 4))\n",
    "plt.title(\"Weekly Change of Customers for Store 1041 and Store 1044\")\n",
    "plt.xlabel(\"Date\")\n",
    "plt.ylabel(\"Number of Customers\")\n",
    "plt.legend()\n",
    "plt.show()"
   ]
  },
  {
   "cell_type": "markdown",
   "metadata": {
    "id": "5VAWlrEn0Ola"
   },
   "source": [
    "#### T1.8: Which store id dominates(out of 1041 & 1044) in both weekly and monthly customers aggregation?      (weightage - 2 marks) (AE)  \n",
    "\n",
    "##### Note: \n",
    "- There are two functions, first function `store_id_max_weekly` for weekly customers aggregation and second function `store_id_max_monthly` for monthly customers aggregation\n",
    "##### HINT - Get the aggregration based on average and return the store ID in the format given below. The output should be in this format `Store_####`"
   ]
  },
  {
   "cell_type": "code",
   "execution_count": 52,
   "metadata": {},
   "outputs": [],
   "source": [
    "def store_id_max_weekly(df):\n",
    "    max_id = None\n",
    "    # code starts here\n",
    "    \n",
    "    # use the previous dataframe\n",
    "    if df['Store_1041'].mean() > df['Store_1044'].mean():\n",
    "        max_id = \"Store_1041\"\n",
    "    else:\n",
    "        max_id = \"Store_1044\"\n",
    "    \n",
    "    # code ends here\n",
    "    return max_id"
   ]
  },
  {
   "cell_type": "code",
   "execution_count": 53,
   "metadata": {},
   "outputs": [
    {
     "data": {
      "text/plain": [
       "'Store_1041'"
      ]
     },
     "execution_count": 53,
     "metadata": {},
     "output_type": "execute_result"
    }
   ],
   "source": [
    "store_id_max_weekly(df)"
   ]
  },
  {
   "cell_type": "code",
   "execution_count": 54,
   "metadata": {},
   "outputs": [],
   "source": [
    "def store_id_max_monthly(df):\n",
    "    max_id =  None\n",
    "    # code starts here\n",
    "    \n",
    "    #resample the data to monthly and take aggregation\n",
    "    monthly_agg = df.resample('M').sum()\n",
    "    \n",
    "    # use the previous dataframe\n",
    "    if monthly_agg['Store_1041'].mean() > monthly_agg['Store_1044'].mean():\n",
    "        max_id = \"Store_1041\"\n",
    "    else:\n",
    "        max_id = \"Store_1044\"\n",
    "\n",
    "    # code ends here\n",
    "    return max_id"
   ]
  },
  {
   "cell_type": "code",
   "execution_count": 55,
   "metadata": {},
   "outputs": [
    {
     "data": {
      "text/plain": [
       "'Store_1041'"
      ]
     },
     "execution_count": 55,
     "metadata": {},
     "output_type": "execute_result"
    }
   ],
   "source": [
    "store_id_max_monthly(df)"
   ]
  },
  {
   "cell_type": "markdown",
   "metadata": {},
   "source": [
    "#### T1.9: Save the dataset (weekly aggregated data related to number of customers for store id 1041 & 1044 in csv file as ‘weekly_1041.csv’ and ‘weekly_1044.csv’ ) in your GitHub repository for model building process. (This task is for maintaining the version control of datasets)                  (weightage - 1 mark) (ME)"
   ]
  },
  {
   "cell_type": "markdown",
   "metadata": {},
   "source": [
    "#### Refer to the Github document from Lumen to create the repository and steps to commit \n",
    "#### Add your Github repository link below "
   ]
  },
  {
   "cell_type": "code",
   "execution_count": null,
   "metadata": {},
   "outputs": [],
   "source": []
  },
  {
   "cell_type": "markdown",
   "metadata": {},
   "source": [
    "##### Note: \n",
    "- The function `weekly_1041` will return the weekly sum for store id 1041.\n",
    "- Use the method `resample()` to calculate the weekly sum for the dataframe `df` and drop the Store_1044 to get the dataframe for weekly 1041.Use axis=1, inplace=True\n",
    "- Store the dataframe in the variable `df_weekly_1041`\n"
   ]
  },
  {
   "cell_type": "code",
   "execution_count": null,
   "metadata": {},
   "outputs": [],
   "source": [
    "# weekly sum for store_1044\n",
    "def weekly_1041(df):\n",
    "    df_weekly_1041 =  None\n",
    "    #code starts here\n",
    "\n",
    "    # code ends here\n",
    "    return df_weekly_1041"
   ]
  },
  {
   "cell_type": "code",
   "execution_count": null,
   "metadata": {},
   "outputs": [],
   "source": [
    "df_weekly_1041 = weekly_1041(df)"
   ]
  },
  {
   "cell_type": "markdown",
   "metadata": {},
   "source": [
    "##### Note:\n",
    "- The function `weekly_1044` will return the weekly sum for store id 1041.\n",
    "- Use the method `resample()` to calculate the weekly sum for the dataframe `df` and drop the Store_1041 to get the dataframe for weekly 1044.Use axis=1, inplace=True\n",
    "- Store the dataframe in the variable `df_weekly_1044`"
   ]
  },
  {
   "cell_type": "code",
   "execution_count": null,
   "metadata": {},
   "outputs": [],
   "source": [
    "def weekly_1044(df):\n",
    "    df_weekly_1044 = None\n",
    "    #code starts here\n",
    "\n",
    "    # code ends here\n",
    "    return df_weekly_1044"
   ]
  },
  {
   "cell_type": "code",
   "execution_count": null,
   "metadata": {},
   "outputs": [],
   "source": [
    "df_weekly_1044 = weekly_1044(df)"
   ]
  },
  {
   "cell_type": "markdown",
   "metadata": {},
   "source": [
    "##### Save them into CSV files"
   ]
  },
  {
   "cell_type": "code",
   "execution_count": null,
   "metadata": {},
   "outputs": [],
   "source": [
    "# save the into csv file"
   ]
  },
  {
   "cell_type": "markdown",
   "metadata": {},
   "source": [
    "## Task 2: Building forecasting models and metrics evaluation. (weightage - 50 Marks) "
   ]
  },
  {
   "cell_type": "markdown",
   "metadata": {},
   "source": [
    "#### T2.1: Use the weekly_1041 and weekly_1044 data and Conduct stationarity test(ADF) for both weekly aggregated data(1041 &1044) ?  (weightage - 10 Marks) (AE and ME)\n",
    "Are they both exhibit stationary? State your results of the Augmented Dicky Fuller(ADF) test\n",
    "\n",
    "Print your output in the given format :\n",
    "\n",
    "**Data is stationary       \n",
    "Data is not stationary**\n",
    "\n",
    "##### Note:\n",
    "- Function `adf_test` should be designed for analyzing time series data using the Augmented Dickey-Fuller (ADF) test, a statistical test used to determine if a time series is stationary or not. \n",
    "- Utilize rolling statistics and the Augmented Dickey-Fuller (ADF) test to analyze time series data(rolling mean and standard deviation with a window size of 7).\n",
    "- Plot the original time series along with rolling statistics, and perform the ADF test to check if the value is less than or equal to `0.05` then return `data is stationary` or else return the `data is non-stationary` \n"
   ]
  },
  {
   "cell_type": "markdown",
   "metadata": {},
   "source": [
    "**Checking for stationarity of data using ADF test function:**"
   ]
  },
  {
   "cell_type": "code",
   "execution_count": null,
   "metadata": {},
   "outputs": [],
   "source": [
    "## Defning a function\n",
    "def adf_test(timeseries):\n",
    "    # code starts here\n",
    "\n",
    "    # code ends here\n",
    "    return "
   ]
  },
  {
   "cell_type": "code",
   "execution_count": null,
   "metadata": {
    "ExecuteTime": {
     "end_time": "2020-09-28T12:43:15.796584Z",
     "start_time": "2020-09-28T12:43:15.624777Z"
    },
    "id": "VNVJWPZM0Olh",
    "outputId": "b9e43490-73fd-4f13-e955-00fd5b57e4b3"
   },
   "outputs": [],
   "source": [
    "adf_test(df_weekly_1041)"
   ]
  },
  {
   "cell_type": "code",
   "execution_count": null,
   "metadata": {},
   "outputs": [],
   "source": [
    "adf_test(df_weekly_1044)"
   ]
  },
  {
   "cell_type": "markdown",
   "metadata": {
    "id": "1yihHf6O1J5y"
   },
   "source": [
    "##### Series is stationary and hence no need for differentiation."
   ]
  },
  {
   "cell_type": "markdown",
   "metadata": {},
   "source": [
    "#### T2.2 :Split the data into train and test (consider  2016 year  for test data)                                   (weightage - 5 Marks) (AE)\n",
    "##### Perform the split for store 1041 data and store 1044 separately and return the train_1041, test_1041 and train_1044,test_1044"
   ]
  },
  {
   "cell_type": "markdown",
   "metadata": {},
   "source": [
    "##### Note: \n",
    "- The function `train_test_split_1041` should be designed to split the time series data `df_weekly_1041` into training and testing sets. \n",
    "- Specifically, it should separate the data for the year 2016 to be used as the test set, while all other years are used for training. \n",
    "- Similarly, the function `train_test_split_1044` should be designed to split the time series data `df_weekly_1044` into training and testing sets. \n",
    "- It should also separate the data for the year 2016 to be used as the test set.\\\n",
    "- Use the variable that are declared in the function to store the training data and testing data respectively."
   ]
  },
  {
   "cell_type": "code",
   "execution_count": null,
   "metadata": {},
   "outputs": [],
   "source": [
    "def train_test_split_1041(df_weekly_1041):# Split the data into train and test ( consider year 2016 for test data) \n",
    "    train_1041,test_1041 = None, None\n",
    "    #code starts here\n",
    "\n",
    "    # code ends here\n",
    "    return train_1041,test_1041\n"
   ]
  },
  {
   "cell_type": "code",
   "execution_count": null,
   "metadata": {},
   "outputs": [],
   "source": [
    "train_1041=train_test_split_1041(df_weekly_1041)[0]\n",
    "test_1041=train_test_split_1041(df_weekly_1041)[1]"
   ]
  },
  {
   "cell_type": "code",
   "execution_count": null,
   "metadata": {},
   "outputs": [],
   "source": [
    "def train_test_split_1044(df_weekly_1044):# Split the data into train and test ( consider year 2016 for test data) \n",
    "    train_1044,test_1044 = None,None\n",
    "    # code starts here\n",
    "\n",
    "    # code ends here\n",
    "    return train_1044,test_1044\n"
   ]
  },
  {
   "cell_type": "code",
   "execution_count": null,
   "metadata": {},
   "outputs": [],
   "source": [
    "train_1044=train_test_split_1044(df_weekly_1044)[0]\n",
    "test_1044=train_test_split_1044(df_weekly_1044)[1]"
   ]
  },
  {
   "cell_type": "markdown",
   "metadata": {},
   "source": [
    "#### T2.3: Draw the ACF and PACF plot for the above train data for both the stores (1041 and 1044) (weightage - 6 Marks) (ME)\n",
    "##### Note: Use figsize = (12,8) ,lags = 20 and ax = plt.gca()"
   ]
  },
  {
   "cell_type": "code",
   "execution_count": null,
   "metadata": {},
   "outputs": [],
   "source": [
    "## Auto correlation plot for weekly aggregation data of Store 1041\n"
   ]
  },
  {
   "cell_type": "code",
   "execution_count": null,
   "metadata": {},
   "outputs": [],
   "source": [
    "## Auto correlation plot for weekly aggregation data of Store 1044\n"
   ]
  },
  {
   "cell_type": "code",
   "execution_count": null,
   "metadata": {},
   "outputs": [],
   "source": [
    "## Partial Auto correlation plot for weekly aggregation data of Store 1041\n"
   ]
  },
  {
   "cell_type": "code",
   "execution_count": null,
   "metadata": {},
   "outputs": [],
   "source": [
    "## Partial Auto correlation plot for weekly aggregation data of Store 1044\n"
   ]
  },
  {
   "cell_type": "markdown",
   "metadata": {},
   "source": [
    "#### Task 2.4: Find the best p.d q values for ARIMA model based on least AIC values  (weightage - 6 Marks) (ME)"
   ]
  },
  {
   "cell_type": "markdown",
   "metadata": {},
   "source": [
    "##### Note :ARIMA\n",
    " - Set up a grid search for p, d, and q parameters using `itertools.product`\n",
    " - Augment parameters with seasonality (e.g., 7 for weekly data).\n",
    " - print parameter combinations as below\n",
    " - Example - Model: (0, 0, 1)(0, 0, 1, 7)"
   ]
  },
  {
   "cell_type": "code",
   "execution_count": null,
   "metadata": {},
   "outputs": [],
   "source": []
  },
  {
   "cell_type": "markdown",
   "metadata": {},
   "source": [
    "##### Note: Create an empty DataFrame (ARIMA_AIC) to store results with columns `param` and `AIC`"
   ]
  },
  {
   "cell_type": "code",
   "execution_count": null,
   "metadata": {},
   "outputs": [],
   "source": []
  },
  {
   "cell_type": "markdown",
   "metadata": {},
   "source": [
    "##### Note :\n",
    "- Create a loop through parameter combinations:\n",
    "- Fit ARIMA models using training data.\n",
    "- Calculate AIC values for each model.\n",
    "- Store parameter combination and AIC value in ARIMA_AIC.\n",
    "-  Display or analyze results in ARIMA_AIC."
   ]
  },
  {
   "cell_type": "code",
   "execution_count": null,
   "metadata": {},
   "outputs": [],
   "source": []
  },
  {
   "cell_type": "markdown",
   "metadata": {},
   "source": [
    "#### Task 2.5: Build the best ARIMA and SARIMA model based on the best p,d q values for store 1041 and make predictions  (weightage - 10 Marks) (ME)"
   ]
  },
  {
   "cell_type": "markdown",
   "metadata": {},
   "source": [
    "##### HINTS :\n",
    " - Fit the ARIMA and SARIMA model for store 1041 \n",
    " - Plot comparing both the model predictions "
   ]
  },
  {
   "cell_type": "markdown",
   "metadata": {},
   "source": [
    "##### ARIMA Model"
   ]
  },
  {
   "cell_type": "code",
   "execution_count": null,
   "metadata": {},
   "outputs": [],
   "source": []
  },
  {
   "cell_type": "markdown",
   "metadata": {},
   "source": [
    "#### SARIMA model "
   ]
  },
  {
   "cell_type": "code",
   "execution_count": null,
   "metadata": {},
   "outputs": [],
   "source": []
  },
  {
   "cell_type": "markdown",
   "metadata": {},
   "source": [
    "##### Plot the test_1041"
   ]
  },
  {
   "cell_type": "code",
   "execution_count": null,
   "metadata": {},
   "outputs": [],
   "source": []
  },
  {
   "cell_type": "markdown",
   "metadata": {},
   "source": [
    "#### T2.6 : Perform Model evaluation and print various evaluation metrics (MSE, RMSE, MAE, MAPE) (weightage - 6 Marks) (ME) \n",
    "##### Note:Prepare the function timeseries_evaluation_metrics_func in a way that it will take inputs for ARIMA Model test_1041['Store_1041'],pred_1041 , and for SARIMA Model test_1041['Store_1041'], pred_sarima_1041 which will print the following values \n",
    " - Mean Squared Error\n",
    " - Root Mean Squared Error \n",
    " - Mean Absolute Error \n",
    " - Mean Absolute Percentage Error "
   ]
  },
  {
   "cell_type": "code",
   "execution_count": null,
   "metadata": {
    "id": "sr4EbY-47azs"
   },
   "outputs": [],
   "source": [
    "def timeseries_evaluation_metrics_func(y_true, y_pred):\n",
    "    # code starts here\n",
    "\n",
    "    # code ends here\n",
    "\n",
    "    return "
   ]
  },
  {
   "cell_type": "markdown",
   "metadata": {},
   "source": [
    "**Evaluation metrics for ARIMA model**"
   ]
  },
  {
   "cell_type": "code",
   "execution_count": null,
   "metadata": {
    "scrolled": true
   },
   "outputs": [],
   "source": [
    "timeseries_evaluation_metrics_func(test_1041['Store_1041'],pred_1041)"
   ]
  },
  {
   "cell_type": "markdown",
   "metadata": {},
   "source": [
    "**Evaluation metrics for SARIMA model**"
   ]
  },
  {
   "cell_type": "code",
   "execution_count": null,
   "metadata": {},
   "outputs": [],
   "source": [
    "timeseries_evaluation_metrics_func(test_1041['Store_1041'], pred_sarima_1041)"
   ]
  },
  {
   "cell_type": "markdown",
   "metadata": {},
   "source": [
    "#### T2.7 : Save the initial version of ARIMA model as “ARIMA_Model_Storeid” and “SARIMA_Model_Storeid” to a version controlsystem GitHub using git commands for collaboration, tracking and ensuring transparency in model development.  (weightage - 2 Marks) (ME)"
   ]
  },
  {
   "cell_type": "code",
   "execution_count": null,
   "metadata": {},
   "outputs": [],
   "source": []
  },
  {
   "cell_type": "markdown",
   "metadata": {},
   "source": [
    "#### T2.8 : Model Explainability - Using Lime/SHAP libraries, explain the prediction of your time series model and give inferences.   (weightage – 5 marks)(ME)"
   ]
  },
  {
   "cell_type": "code",
   "execution_count": null,
   "metadata": {},
   "outputs": [],
   "source": []
  },
  {
   "cell_type": "code",
   "execution_count": null,
   "metadata": {},
   "outputs": [],
   "source": []
  },
  {
   "cell_type": "markdown",
   "metadata": {},
   "source": [
    "## Task 3: Model Deployment: Deploy the trained model into a production environment, allowing stakeholders to utilize it for real-time forecasting Develop an intuitive user interface to facilitate easy interaction with the model. (weightage – 10 marks) "
   ]
  },
  {
   "cell_type": "markdown",
   "metadata": {},
   "source": [
    "#### T3.1 Model deployment step (saving the file as a .t5 model)      (weightage – 2 marks)(ME)"
   ]
  },
  {
   "cell_type": "code",
   "execution_count": null,
   "metadata": {},
   "outputs": [],
   "source": []
  },
  {
   "cell_type": "code",
   "execution_count": null,
   "metadata": {},
   "outputs": [],
   "source": []
  },
  {
   "cell_type": "markdown",
   "metadata": {},
   "source": [
    "#### T3.2 Implement the unit test cases and use the saved .t5 model file to create a webapp using flask/streamlit code    (weightage – 8 marks)(ME)"
   ]
  },
  {
   "cell_type": "code",
   "execution_count": null,
   "metadata": {},
   "outputs": [],
   "source": []
  },
  {
   "cell_type": "markdown",
   "metadata": {},
   "source": [
    "### Task 4: Summarize the findings of the analysis and draw conclusions with PPT / PDF. (weightage - 15 marks) (ME)"
   ]
  },
  {
   "cell_type": "code",
   "execution_count": null,
   "metadata": {},
   "outputs": [],
   "source": []
  },
  {
   "cell_type": "markdown",
   "metadata": {},
   "source": [
    "**Final Submission guidelines:**\n",
    "- Download the Jupyter notebook in the format of html. \n",
    "- Upload it in the lumen (UNext LMS)\n",
    "- Take a screenshot of T3.2 (Deployment) and upload it in the lumen (UNext LMS)\n",
    "- Summarized PPT/ PDF prepared in Task 4 to be uploaded in the lumen (UNext LMS)"
   ]
  },
  {
   "cell_type": "markdown",
   "metadata": {},
   "source": [
    "-------------------------------------------------- **ASSESSMENT ENDS HERE** ---------------------------------------------------------"
   ]
  }
 ],
 "metadata": {
  "colab": {
   "collapsed_sections": [
    "FbLw64QE0Olh",
    "FB3Xv04J0Oli",
    "VT9JMEMK0Oli",
    "rbAiT__Z0Oll"
   ],
   "name": "S5_Faculty_Notebook.ipynb",
   "provenance": []
  },
  "kernelspec": {
   "display_name": "Python 3 (ipykernel)",
   "language": "python",
   "name": "python3"
  },
  "language_info": {
   "codemirror_mode": {
    "name": "ipython",
    "version": 3
   },
   "file_extension": ".py",
   "mimetype": "text/x-python",
   "name": "python",
   "nbconvert_exporter": "python",
   "pygments_lexer": "ipython3",
   "version": "3.8.10"
  },
  "toc": {
   "base_numbering": 1,
   "nav_menu": {},
   "number_sections": true,
   "sideBar": true,
   "skip_h1_title": false,
   "title_cell": "Table of Contents",
   "title_sidebar": "Contents",
   "toc_cell": false,
   "toc_position": {},
   "toc_section_display": true,
   "toc_window_display": false
  },
  "varInspector": {
   "cols": {
    "lenName": 16,
    "lenType": 16,
    "lenVar": 40
   },
   "kernels_config": {
    "python": {
     "delete_cmd_postfix": "",
     "delete_cmd_prefix": "del ",
     "library": "var_list.py",
     "varRefreshCmd": "print(var_dic_list())"
    },
    "r": {
     "delete_cmd_postfix": ") ",
     "delete_cmd_prefix": "rm(",
     "library": "var_list.r",
     "varRefreshCmd": "cat(var_dic_list()) "
    }
   },
   "types_to_exclude": [
    "module",
    "function",
    "builtin_function_or_method",
    "instance",
    "_Feature"
   ],
   "window_display": false
  }
 },
 "nbformat": 4,
 "nbformat_minor": 4
}
